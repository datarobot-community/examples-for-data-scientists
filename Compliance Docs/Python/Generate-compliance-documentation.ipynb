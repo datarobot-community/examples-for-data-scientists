{
 "cells": [
  {
   "cell_type": "markdown",
   "metadata": {},
   "source": [
    "# Generate Compliance documentation\n",
    "\n",
    "DataRobot automates many critical compliance tasks associated with developing a model and by doing so, decreases the time-to-deployment in highly regulated industries. For each model, you can generate individualized documentation to provide comprehensive guidance on what constitutes effective model risk management. Then, you can download the report as an editable Microsoft Word document (DOCX). The generated report includes the appropriate level of information and transparency necessitated by regulatory compliance demands.\n",
    "\n",
    "This notebooks explains how to generate [compliance documentation](https://docs.datarobot.com/en/docs/modeling/analyze-models/compliance/compliance.html) with the DataRobot Python Client.\n",
    "\n",
    "Download this notebook from the [code examples home page](index).\n",
    "\n",
    "### Requirements\n",
    "\n",
    "* Python version 3.7.3\n",
    "*  DataRobot API version 2.19.0\n",
    "* A DataRobot `Project` object and project ID\n",
    "* A DataRobot `Model` object and model ID"
   ]
  },
  {
   "cell_type": "markdown",
   "metadata": {},
   "source": [
    "### Import libraries"
   ]
  },
  {
   "cell_type": "code",
   "execution_count": null,
   "metadata": {},
   "outputs": [],
   "source": [
    "import datarobot as dr"
   ]
  },
  {
   "cell_type": "markdown",
   "metadata": {},
   "source": [
    "### Download compliance documentation\n",
    "\n",
    "To download compliance documentation for a particular model, you must call <code>ComplianceDocumentation</code> on a particular project and model. Next, generate the documentation (in DOCX format) and save it to your desired file path."
   ]
  },
  {
   "cell_type": "code",
   "execution_count": null,
   "metadata": {},
   "outputs": [],
   "source": [
    "# Use the default compliance documentation template\n",
    "doc = dr.ComplianceDocumentation(project.id, model.id)\n",
    "\n",
    "# Initiate the job to generate documentation\n",
    "job = doc.generate()\n",
    "\n",
    "# Once the job is complete, download the documentation as a DOCX file\n",
    "job.wait_for_completion()\n",
    "doc.download('/path/to/save')"
   ]
  },
  {
   "cell_type": "markdown",
   "metadata": {},
   "source": [
    "### Create a custom template\n",
    "\n",
    "You can also use your own custom templates to generate compliance documentation. To do so, download the default template as a JSON file using <code>ComplianceDocTemplate</code> and then customize it. Alternatively, [create a custom template from scratch](#create-a-blank-custom-template)."
   ]
  },
  {
   "cell_type": "code",
   "execution_count": null,
   "metadata": {},
   "outputs": [],
   "source": [
    "GetComplianceDocTemplate(\"path/to/filename.json\")\n",
    "default_template = dr.ComplianceDocTemplate.get_default()"
   ]
  },
  {
   "cell_type": "markdown",
   "metadata": {},
   "source": [
    "### Update the default template"
   ]
  },
  {
   "cell_type": "code",
   "execution_count": null,
   "metadata": {},
   "outputs": [],
   "source": [
    "# Download the template and edit sections locally\n",
    "default_template.sections_to_json_file('path/to/save')\n",
    "\n",
    "# Create a new template from your local file\n",
    "my_template = dr.ComplianceDocTemplate.create_from_json_file(name='my_template', path='path/of/file')"
   ]
  },
  {
   "cell_type": "markdown",
   "metadata": {},
   "source": [
    "### Create a blank custom template\n",
    "\n",
    "Use the code below to create a custom template without using the default template as a starting point."
   ]
  },
  {
   "cell_type": "code",
   "execution_count": null,
   "metadata": {},
   "outputs": [],
   "source": [
    "sections = [{\n",
    "            'title': 'Missing Values Report',\n",
    "            'highlightedText': 'NOTICE',\n",
    "            'regularText': 'This dataset had a lot of Missing Values. See the chart below: {{missing_values}}',\n",
    "            'type': 'user'\n",
    "            },\n",
    "            {\n",
    "            'title': 'Blueprints',\n",
    "            'highlightedText': '',\n",
    "            'regularText': '{{blueprint_diagram}} /n Blueprint for this model'\n",
    "            'type': 'user'\n",
    "            }]\n",
    "template = dr.ComplianceDocTemplate.create(name='Example', sections=sections)"
   ]
  },
  {
   "cell_type": "markdown",
   "metadata": {},
   "source": [
    "### Download your custom template"
   ]
  },
  {
   "cell_type": "code",
   "execution_count": null,
   "metadata": {},
   "outputs": [],
   "source": [
    "# Specify the template_id to generate documentation using a custom template\n",
    "doc = dr.ComplianceDocumentation(project.id, model.id, template.id)\n",
    "job = doc.generate().wait_for_completion()\n",
    "doc.download('/path/to/save')"
   ]
  }
 ],
 "metadata": {
  "kernelspec": {
   "display_name": "Python 3 (ipykernel)",
   "language": "python",
   "name": "python3"
  },
  "language_info": {
   "codemirror_mode": {
    "name": "ipython",
    "version": 3
   },
   "file_extension": ".py",
   "mimetype": "text/x-python",
   "name": "python",
   "nbconvert_exporter": "python",
   "pygments_lexer": "ipython3",
   "version": "3.8.12"
  }
 },
 "nbformat": 4,
 "nbformat_minor": 4
}
